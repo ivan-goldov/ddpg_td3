{
  "nbformat": 4,
  "nbformat_minor": 0,
  "metadata": {
    "kernelspec": {
      "display_name": "Python 3",
      "language": "python",
      "name": "python3"
    },
    "language_info": {
      "codemirror_mode": {
        "name": "ipython",
        "version": 3
      },
      "file_extension": ".py",
      "mimetype": "text/x-python",
      "name": "python",
      "nbconvert_exporter": "python",
      "pygments_lexer": "ipython3",
      "version": "3.7.3"
    },
    "colab": {
      "name": "Spring_2022_test_task.ipynb",
      "provenance": [],
      "collapsed_sections": []
    },
    "accelerator": "GPU",
    "widgets": {
      "application/vnd.jupyter.widget-state+json": {
        "eda354d539a84435af8ddc573c6463fd": {
          "model_module": "@jupyter-widgets/controls",
          "model_name": "HBoxModel",
          "model_module_version": "1.5.0",
          "state": {
            "_view_name": "HBoxView",
            "_dom_classes": [],
            "_model_name": "HBoxModel",
            "_view_module": "@jupyter-widgets/controls",
            "_model_module_version": "1.5.0",
            "_view_count": null,
            "_view_module_version": "1.5.0",
            "box_style": "",
            "layout": "IPY_MODEL_698ef63941a740bb89f28cd4236d4062",
            "_model_module": "@jupyter-widgets/controls",
            "children": [
              "IPY_MODEL_0b8c30f1ec964f5cad99f566844c3e1a",
              "IPY_MODEL_3a7eb8f24706442c936ffc2babace575",
              "IPY_MODEL_73c015dda5de45d79480a7287e9ff820"
            ]
          }
        },
        "698ef63941a740bb89f28cd4236d4062": {
          "model_module": "@jupyter-widgets/base",
          "model_name": "LayoutModel",
          "model_module_version": "1.2.0",
          "state": {
            "_view_name": "LayoutView",
            "grid_template_rows": null,
            "right": null,
            "justify_content": null,
            "_view_module": "@jupyter-widgets/base",
            "overflow": null,
            "_model_module_version": "1.2.0",
            "_view_count": null,
            "flex_flow": null,
            "width": null,
            "min_width": null,
            "border": null,
            "align_items": null,
            "bottom": null,
            "_model_module": "@jupyter-widgets/base",
            "top": null,
            "grid_column": null,
            "overflow_y": null,
            "overflow_x": null,
            "grid_auto_flow": null,
            "grid_area": null,
            "grid_template_columns": null,
            "flex": null,
            "_model_name": "LayoutModel",
            "justify_items": null,
            "grid_row": null,
            "max_height": null,
            "align_content": null,
            "visibility": null,
            "align_self": null,
            "height": null,
            "min_height": null,
            "padding": null,
            "grid_auto_rows": null,
            "grid_gap": null,
            "max_width": null,
            "order": null,
            "_view_module_version": "1.2.0",
            "grid_template_areas": null,
            "object_position": null,
            "object_fit": null,
            "grid_auto_columns": null,
            "margin": null,
            "display": null,
            "left": null
          }
        },
        "0b8c30f1ec964f5cad99f566844c3e1a": {
          "model_module": "@jupyter-widgets/controls",
          "model_name": "HTMLModel",
          "model_module_version": "1.5.0",
          "state": {
            "_view_name": "HTMLView",
            "style": "IPY_MODEL_11ad116a08e34ece898623a6c8052051",
            "_dom_classes": [],
            "description": "",
            "_model_name": "HTMLModel",
            "placeholder": "​",
            "_view_module": "@jupyter-widgets/controls",
            "_model_module_version": "1.5.0",
            "value": "100%",
            "_view_count": null,
            "_view_module_version": "1.5.0",
            "description_tooltip": null,
            "_model_module": "@jupyter-widgets/controls",
            "layout": "IPY_MODEL_caf8e2770674477fb7e6e897a449cefb"
          }
        },
        "3a7eb8f24706442c936ffc2babace575": {
          "model_module": "@jupyter-widgets/controls",
          "model_name": "FloatProgressModel",
          "model_module_version": "1.5.0",
          "state": {
            "_view_name": "ProgressView",
            "style": "IPY_MODEL_d079ff7574d74a75bb6c941f553310da",
            "_dom_classes": [],
            "description": "",
            "_model_name": "FloatProgressModel",
            "bar_style": "success",
            "max": 400000,
            "_view_module": "@jupyter-widgets/controls",
            "_model_module_version": "1.5.0",
            "value": 400000,
            "_view_count": null,
            "_view_module_version": "1.5.0",
            "orientation": "horizontal",
            "min": 0,
            "description_tooltip": null,
            "_model_module": "@jupyter-widgets/controls",
            "layout": "IPY_MODEL_ec11e5f0016a495fb763cf9882ec4020"
          }
        },
        "73c015dda5de45d79480a7287e9ff820": {
          "model_module": "@jupyter-widgets/controls",
          "model_name": "HTMLModel",
          "model_module_version": "1.5.0",
          "state": {
            "_view_name": "HTMLView",
            "style": "IPY_MODEL_46767276676e4ae18fabda392605c877",
            "_dom_classes": [],
            "description": "",
            "_model_name": "HTMLModel",
            "placeholder": "​",
            "_view_module": "@jupyter-widgets/controls",
            "_model_module_version": "1.5.0",
            "value": " 400000/400000 [1:23:43&lt;00:00, 87.14it/s, Mean reward: 291.44, Critic loss: 5.60, Actor loss: -106.99]",
            "_view_count": null,
            "_view_module_version": "1.5.0",
            "description_tooltip": null,
            "_model_module": "@jupyter-widgets/controls",
            "layout": "IPY_MODEL_c8fd5748282946b28a90e2685b25a69a"
          }
        },
        "11ad116a08e34ece898623a6c8052051": {
          "model_module": "@jupyter-widgets/controls",
          "model_name": "DescriptionStyleModel",
          "model_module_version": "1.5.0",
          "state": {
            "_view_name": "StyleView",
            "_model_name": "DescriptionStyleModel",
            "description_width": "",
            "_view_module": "@jupyter-widgets/base",
            "_model_module_version": "1.5.0",
            "_view_count": null,
            "_view_module_version": "1.2.0",
            "_model_module": "@jupyter-widgets/controls"
          }
        },
        "caf8e2770674477fb7e6e897a449cefb": {
          "model_module": "@jupyter-widgets/base",
          "model_name": "LayoutModel",
          "model_module_version": "1.2.0",
          "state": {
            "_view_name": "LayoutView",
            "grid_template_rows": null,
            "right": null,
            "justify_content": null,
            "_view_module": "@jupyter-widgets/base",
            "overflow": null,
            "_model_module_version": "1.2.0",
            "_view_count": null,
            "flex_flow": null,
            "width": null,
            "min_width": null,
            "border": null,
            "align_items": null,
            "bottom": null,
            "_model_module": "@jupyter-widgets/base",
            "top": null,
            "grid_column": null,
            "overflow_y": null,
            "overflow_x": null,
            "grid_auto_flow": null,
            "grid_area": null,
            "grid_template_columns": null,
            "flex": null,
            "_model_name": "LayoutModel",
            "justify_items": null,
            "grid_row": null,
            "max_height": null,
            "align_content": null,
            "visibility": null,
            "align_self": null,
            "height": null,
            "min_height": null,
            "padding": null,
            "grid_auto_rows": null,
            "grid_gap": null,
            "max_width": null,
            "order": null,
            "_view_module_version": "1.2.0",
            "grid_template_areas": null,
            "object_position": null,
            "object_fit": null,
            "grid_auto_columns": null,
            "margin": null,
            "display": null,
            "left": null
          }
        },
        "d079ff7574d74a75bb6c941f553310da": {
          "model_module": "@jupyter-widgets/controls",
          "model_name": "ProgressStyleModel",
          "model_module_version": "1.5.0",
          "state": {
            "_view_name": "StyleView",
            "_model_name": "ProgressStyleModel",
            "description_width": "",
            "_view_module": "@jupyter-widgets/base",
            "_model_module_version": "1.5.0",
            "_view_count": null,
            "_view_module_version": "1.2.0",
            "bar_color": null,
            "_model_module": "@jupyter-widgets/controls"
          }
        },
        "ec11e5f0016a495fb763cf9882ec4020": {
          "model_module": "@jupyter-widgets/base",
          "model_name": "LayoutModel",
          "model_module_version": "1.2.0",
          "state": {
            "_view_name": "LayoutView",
            "grid_template_rows": null,
            "right": null,
            "justify_content": null,
            "_view_module": "@jupyter-widgets/base",
            "overflow": null,
            "_model_module_version": "1.2.0",
            "_view_count": null,
            "flex_flow": null,
            "width": null,
            "min_width": null,
            "border": null,
            "align_items": null,
            "bottom": null,
            "_model_module": "@jupyter-widgets/base",
            "top": null,
            "grid_column": null,
            "overflow_y": null,
            "overflow_x": null,
            "grid_auto_flow": null,
            "grid_area": null,
            "grid_template_columns": null,
            "flex": null,
            "_model_name": "LayoutModel",
            "justify_items": null,
            "grid_row": null,
            "max_height": null,
            "align_content": null,
            "visibility": null,
            "align_self": null,
            "height": null,
            "min_height": null,
            "padding": null,
            "grid_auto_rows": null,
            "grid_gap": null,
            "max_width": null,
            "order": null,
            "_view_module_version": "1.2.0",
            "grid_template_areas": null,
            "object_position": null,
            "object_fit": null,
            "grid_auto_columns": null,
            "margin": null,
            "display": null,
            "left": null
          }
        },
        "46767276676e4ae18fabda392605c877": {
          "model_module": "@jupyter-widgets/controls",
          "model_name": "DescriptionStyleModel",
          "model_module_version": "1.5.0",
          "state": {
            "_view_name": "StyleView",
            "_model_name": "DescriptionStyleModel",
            "description_width": "",
            "_view_module": "@jupyter-widgets/base",
            "_model_module_version": "1.5.0",
            "_view_count": null,
            "_view_module_version": "1.2.0",
            "_model_module": "@jupyter-widgets/controls"
          }
        },
        "c8fd5748282946b28a90e2685b25a69a": {
          "model_module": "@jupyter-widgets/base",
          "model_name": "LayoutModel",
          "model_module_version": "1.2.0",
          "state": {
            "_view_name": "LayoutView",
            "grid_template_rows": null,
            "right": null,
            "justify_content": null,
            "_view_module": "@jupyter-widgets/base",
            "overflow": null,
            "_model_module_version": "1.2.0",
            "_view_count": null,
            "flex_flow": null,
            "width": null,
            "min_width": null,
            "border": null,
            "align_items": null,
            "bottom": null,
            "_model_module": "@jupyter-widgets/base",
            "top": null,
            "grid_column": null,
            "overflow_y": null,
            "overflow_x": null,
            "grid_auto_flow": null,
            "grid_area": null,
            "grid_template_columns": null,
            "flex": null,
            "_model_name": "LayoutModel",
            "justify_items": null,
            "grid_row": null,
            "max_height": null,
            "align_content": null,
            "visibility": null,
            "align_self": null,
            "height": null,
            "min_height": null,
            "padding": null,
            "grid_auto_rows": null,
            "grid_gap": null,
            "max_width": null,
            "order": null,
            "_view_module_version": "1.2.0",
            "grid_template_areas": null,
            "object_position": null,
            "object_fit": null,
            "grid_auto_columns": null,
            "margin": null,
            "display": null,
            "left": null
          }
        },
        "9fd8bafbda36495f94d0b65e7ecdb965": {
          "model_module": "@jupyter-widgets/controls",
          "model_name": "HBoxModel",
          "model_module_version": "1.5.0",
          "state": {
            "_view_name": "HBoxView",
            "_dom_classes": [],
            "_model_name": "HBoxModel",
            "_view_module": "@jupyter-widgets/controls",
            "_model_module_version": "1.5.0",
            "_view_count": null,
            "_view_module_version": "1.5.0",
            "box_style": "",
            "layout": "IPY_MODEL_456d2ae8f5054f118c6cb7b3bd3742ff",
            "_model_module": "@jupyter-widgets/controls",
            "children": [
              "IPY_MODEL_4da8fb82fb344f5796818245d77c7fab",
              "IPY_MODEL_461e28daf373441e9f43e799cd241b5d",
              "IPY_MODEL_1865a9b0c0f441f2a0c44c167db575b7"
            ]
          }
        },
        "456d2ae8f5054f118c6cb7b3bd3742ff": {
          "model_module": "@jupyter-widgets/base",
          "model_name": "LayoutModel",
          "model_module_version": "1.2.0",
          "state": {
            "_view_name": "LayoutView",
            "grid_template_rows": null,
            "right": null,
            "justify_content": null,
            "_view_module": "@jupyter-widgets/base",
            "overflow": null,
            "_model_module_version": "1.2.0",
            "_view_count": null,
            "flex_flow": null,
            "width": null,
            "min_width": null,
            "border": null,
            "align_items": null,
            "bottom": null,
            "_model_module": "@jupyter-widgets/base",
            "top": null,
            "grid_column": null,
            "overflow_y": null,
            "overflow_x": null,
            "grid_auto_flow": null,
            "grid_area": null,
            "grid_template_columns": null,
            "flex": null,
            "_model_name": "LayoutModel",
            "justify_items": null,
            "grid_row": null,
            "max_height": null,
            "align_content": null,
            "visibility": null,
            "align_self": null,
            "height": null,
            "min_height": null,
            "padding": null,
            "grid_auto_rows": null,
            "grid_gap": null,
            "max_width": null,
            "order": null,
            "_view_module_version": "1.2.0",
            "grid_template_areas": null,
            "object_position": null,
            "object_fit": null,
            "grid_auto_columns": null,
            "margin": null,
            "display": null,
            "left": null
          }
        },
        "4da8fb82fb344f5796818245d77c7fab": {
          "model_module": "@jupyter-widgets/controls",
          "model_name": "HTMLModel",
          "model_module_version": "1.5.0",
          "state": {
            "_view_name": "HTMLView",
            "style": "IPY_MODEL_a1a777fb48114f3ea26974486d5a3fbb",
            "_dom_classes": [],
            "description": "",
            "_model_name": "HTMLModel",
            "placeholder": "​",
            "_view_module": "@jupyter-widgets/controls",
            "_model_module_version": "1.5.0",
            "value": "100%",
            "_view_count": null,
            "_view_module_version": "1.5.0",
            "description_tooltip": null,
            "_model_module": "@jupyter-widgets/controls",
            "layout": "IPY_MODEL_5ef0dcf8dacd4e85b9af8609b037d9c6"
          }
        },
        "461e28daf373441e9f43e799cd241b5d": {
          "model_module": "@jupyter-widgets/controls",
          "model_name": "FloatProgressModel",
          "model_module_version": "1.5.0",
          "state": {
            "_view_name": "ProgressView",
            "style": "IPY_MODEL_e155980559b1481cb477fe4486366e96",
            "_dom_classes": [],
            "description": "",
            "_model_name": "FloatProgressModel",
            "bar_style": "success",
            "max": 400000,
            "_view_module": "@jupyter-widgets/controls",
            "_model_module_version": "1.5.0",
            "value": 400000,
            "_view_count": null,
            "_view_module_version": "1.5.0",
            "orientation": "horizontal",
            "min": 0,
            "description_tooltip": null,
            "_model_module": "@jupyter-widgets/controls",
            "layout": "IPY_MODEL_ffe953c6555941328e77d49c56a4fbda"
          }
        },
        "1865a9b0c0f441f2a0c44c167db575b7": {
          "model_module": "@jupyter-widgets/controls",
          "model_name": "HTMLModel",
          "model_module_version": "1.5.0",
          "state": {
            "_view_name": "HTMLView",
            "style": "IPY_MODEL_0652ac73629c4892912c8096a031302a",
            "_dom_classes": [],
            "description": "",
            "_model_name": "HTMLModel",
            "placeholder": "​",
            "_view_module": "@jupyter-widgets/controls",
            "_model_module_version": "1.5.0",
            "value": " 400000/400000 [1:22:10&lt;00:00, 84.84it/s, Mean reward: 282.43, Critic loss: 8.77, Actor loss: -49.88]",
            "_view_count": null,
            "_view_module_version": "1.5.0",
            "description_tooltip": null,
            "_model_module": "@jupyter-widgets/controls",
            "layout": "IPY_MODEL_ee9e99eca5ff4935be534216dbe428a4"
          }
        },
        "a1a777fb48114f3ea26974486d5a3fbb": {
          "model_module": "@jupyter-widgets/controls",
          "model_name": "DescriptionStyleModel",
          "model_module_version": "1.5.0",
          "state": {
            "_view_name": "StyleView",
            "_model_name": "DescriptionStyleModel",
            "description_width": "",
            "_view_module": "@jupyter-widgets/base",
            "_model_module_version": "1.5.0",
            "_view_count": null,
            "_view_module_version": "1.2.0",
            "_model_module": "@jupyter-widgets/controls"
          }
        },
        "5ef0dcf8dacd4e85b9af8609b037d9c6": {
          "model_module": "@jupyter-widgets/base",
          "model_name": "LayoutModel",
          "model_module_version": "1.2.0",
          "state": {
            "_view_name": "LayoutView",
            "grid_template_rows": null,
            "right": null,
            "justify_content": null,
            "_view_module": "@jupyter-widgets/base",
            "overflow": null,
            "_model_module_version": "1.2.0",
            "_view_count": null,
            "flex_flow": null,
            "width": null,
            "min_width": null,
            "border": null,
            "align_items": null,
            "bottom": null,
            "_model_module": "@jupyter-widgets/base",
            "top": null,
            "grid_column": null,
            "overflow_y": null,
            "overflow_x": null,
            "grid_auto_flow": null,
            "grid_area": null,
            "grid_template_columns": null,
            "flex": null,
            "_model_name": "LayoutModel",
            "justify_items": null,
            "grid_row": null,
            "max_height": null,
            "align_content": null,
            "visibility": null,
            "align_self": null,
            "height": null,
            "min_height": null,
            "padding": null,
            "grid_auto_rows": null,
            "grid_gap": null,
            "max_width": null,
            "order": null,
            "_view_module_version": "1.2.0",
            "grid_template_areas": null,
            "object_position": null,
            "object_fit": null,
            "grid_auto_columns": null,
            "margin": null,
            "display": null,
            "left": null
          }
        },
        "e155980559b1481cb477fe4486366e96": {
          "model_module": "@jupyter-widgets/controls",
          "model_name": "ProgressStyleModel",
          "model_module_version": "1.5.0",
          "state": {
            "_view_name": "StyleView",
            "_model_name": "ProgressStyleModel",
            "description_width": "",
            "_view_module": "@jupyter-widgets/base",
            "_model_module_version": "1.5.0",
            "_view_count": null,
            "_view_module_version": "1.2.0",
            "bar_color": null,
            "_model_module": "@jupyter-widgets/controls"
          }
        },
        "ffe953c6555941328e77d49c56a4fbda": {
          "model_module": "@jupyter-widgets/base",
          "model_name": "LayoutModel",
          "model_module_version": "1.2.0",
          "state": {
            "_view_name": "LayoutView",
            "grid_template_rows": null,
            "right": null,
            "justify_content": null,
            "_view_module": "@jupyter-widgets/base",
            "overflow": null,
            "_model_module_version": "1.2.0",
            "_view_count": null,
            "flex_flow": null,
            "width": null,
            "min_width": null,
            "border": null,
            "align_items": null,
            "bottom": null,
            "_model_module": "@jupyter-widgets/base",
            "top": null,
            "grid_column": null,
            "overflow_y": null,
            "overflow_x": null,
            "grid_auto_flow": null,
            "grid_area": null,
            "grid_template_columns": null,
            "flex": null,
            "_model_name": "LayoutModel",
            "justify_items": null,
            "grid_row": null,
            "max_height": null,
            "align_content": null,
            "visibility": null,
            "align_self": null,
            "height": null,
            "min_height": null,
            "padding": null,
            "grid_auto_rows": null,
            "grid_gap": null,
            "max_width": null,
            "order": null,
            "_view_module_version": "1.2.0",
            "grid_template_areas": null,
            "object_position": null,
            "object_fit": null,
            "grid_auto_columns": null,
            "margin": null,
            "display": null,
            "left": null
          }
        },
        "0652ac73629c4892912c8096a031302a": {
          "model_module": "@jupyter-widgets/controls",
          "model_name": "DescriptionStyleModel",
          "model_module_version": "1.5.0",
          "state": {
            "_view_name": "StyleView",
            "_model_name": "DescriptionStyleModel",
            "description_width": "",
            "_view_module": "@jupyter-widgets/base",
            "_model_module_version": "1.5.0",
            "_view_count": null,
            "_view_module_version": "1.2.0",
            "_model_module": "@jupyter-widgets/controls"
          }
        },
        "ee9e99eca5ff4935be534216dbe428a4": {
          "model_module": "@jupyter-widgets/base",
          "model_name": "LayoutModel",
          "model_module_version": "1.2.0",
          "state": {
            "_view_name": "LayoutView",
            "grid_template_rows": null,
            "right": null,
            "justify_content": null,
            "_view_module": "@jupyter-widgets/base",
            "overflow": null,
            "_model_module_version": "1.2.0",
            "_view_count": null,
            "flex_flow": null,
            "width": null,
            "min_width": null,
            "border": null,
            "align_items": null,
            "bottom": null,
            "_model_module": "@jupyter-widgets/base",
            "top": null,
            "grid_column": null,
            "overflow_y": null,
            "overflow_x": null,
            "grid_auto_flow": null,
            "grid_area": null,
            "grid_template_columns": null,
            "flex": null,
            "_model_name": "LayoutModel",
            "justify_items": null,
            "grid_row": null,
            "max_height": null,
            "align_content": null,
            "visibility": null,
            "align_self": null,
            "height": null,
            "min_height": null,
            "padding": null,
            "grid_auto_rows": null,
            "grid_gap": null,
            "max_width": null,
            "order": null,
            "_view_module_version": "1.2.0",
            "grid_template_areas": null,
            "object_position": null,
            "object_fit": null,
            "grid_auto_columns": null,
            "margin": null,
            "display": null,
            "left": null
          }
        }
      }
    }
  },
  "cells": [
    {
      "cell_type": "markdown",
      "metadata": {
        "id": "yGcfZrnm8W4Y"
      },
      "source": [
        "# Тестовое задание\n",
        "<br>\n",
        "\n",
        "### Общее описание\n",
        "В этом задании Вам необходимо реализовать и обучить алгоритмы DDPG и TD3, а затем сравнить резульаты, полученные данными алгритмами. Тестирование проводится с помощью одной из классических сред LunarLanderContinuous, которая входит в библиотеку OpenAI Gym.<br><br>\n",
        "При решении задачи крайне приветствуется внесение в алгоритмы спецефичных для данной задачи модификаций.\n",
        "\n",
        "### Критерии оценки\n",
        "\n",
        "* Задача полностью решена, если агент в среднем достигает 220+ очков\n",
        "* Задача решена удовлетворительно, если агент в среднем достигает 50+ очков\n",
        "* Помимо результатов обучения агента, также оценивается качество кода и анализа результатов"
      ]
    },
    {
      "cell_type": "code",
      "metadata": {
        "id": "xJzAVqCD8W4Z"
      },
      "source": [
        "# Код для установки пакетов в Google Colab\n",
        "!pip install Box2D  > /dev/null 2>&1\n",
        "!pip install gym[all] pyvirtualdisplay > /dev/null 2>&1\n",
        "!pip install tqdm > /dev/null 2>&1\n",
        "!apt update > /dev/null 2>&1\n",
        "!apt install -y xvfb python-opengl ffmpeg > /dev/null 2>&1"
      ],
      "execution_count": null,
      "outputs": []
    },
    {
      "cell_type": "markdown",
      "source": [
        ""
      ],
      "metadata": {
        "id": "0NcKNHTs2Sg0"
      }
    },
    {
      "cell_type": "code",
      "metadata": {
        "id": "7wXp1J6K8W4c",
        "colab": {
          "base_uri": "https://localhost:8080/"
        },
        "outputId": "bb480746-880a-43ce-f596-345c44eac80d"
      },
      "source": [
        "import gym\n",
        "import time\n",
        "import matplotlib.pyplot as plt\n",
        "import copy\n",
        "import random\n",
        "import numpy as np\n",
        "from collections import deque\n",
        "from itertools import chain\n",
        "\n",
        "# PyTorch\n",
        "import torch\n",
        "from torch import nn\n",
        "from torch import optim\n",
        "import torch.nn.functional as F\n",
        "from tqdm.notebook import tqdm\n",
        "\n",
        "# Устройство, на котором будет работать PyTorch.\n",
        "device = torch.device('cuda' if torch.cuda.is_available() else 'cpu') # Model trains faster in GPU\n",
        "\n",
        "%matplotlib inline\n",
        "device"
      ],
      "execution_count": null,
      "outputs": [
        {
          "output_type": "execute_result",
          "data": {
            "text/plain": [
              "device(type='cuda')"
            ]
          },
          "metadata": {},
          "execution_count": 18
        }
      ]
    },
    {
      "cell_type": "code",
      "metadata": {
        "id": "OnT46gX68W4f",
        "cellView": "code"
      },
      "source": [
        "# Буфер опыта\n",
        "# Тут ничего менять не нужно\n",
        "\n",
        "class ExpirienceReplay:\n",
        "    def __init__(self, size=10000):\n",
        "        self.data = deque(maxlen=size)\n",
        "    \n",
        "    def add(self, transition):\n",
        "        self.data.append(transition)\n",
        "        \n",
        "    def sample(self, size):\n",
        "        batch = random.sample(self.data, size)\n",
        "        return list(zip(*batch))"
      ],
      "execution_count": null,
      "outputs": []
    },
    {
      "cell_type": "code",
      "metadata": {
        "id": "hbcvRSqd8W4h"
      },
      "source": [
        "#title Метод build_plot для отрисовки графиков\n",
        "# Тут ничего менять не нужно\n",
        "\n",
        "def build_plot(xs, means, stds, labels, figsize=(12, 8)):\n",
        "    colors = [\n",
        "        (0.8, 0.0, 0.0),\n",
        "        (0.0, 0.8, 0.0),\n",
        "        (0.0, 0.0, 0.8),\n",
        "        (0.0, 0.5, 0.8)\n",
        "    ]\n",
        "    x_min = max([x[0] for x in xs])\n",
        "    x_max = min([x[-1] for x in xs])\n",
        "    plt.figure(figsize=figsize)\n",
        "    plt.plot([x_min, x_max], [150., 150.], color=(0.25, 0.25, 0.25, 0.6), linestyle='-.', label=\"Minimal solution\")\n",
        "    plt.plot([x_min, x_max], [300., 300.], color=(0.75, 0.75, 0.0, 0.6), linestyle='-.', label=\"Optimal solution\")\n",
        "    for x, mean, std, label, color in zip(xs, means, stds, labels, colors):\n",
        "        plt.fill_between(x, mean - 2*std, mean + 2*std, color=color, alpha=0.2)\n",
        "        plt.plot(x, mean, label=label, color=color)\n",
        "    plt.legend()\n",
        "    plt.xlim(x_min, x_max)\n",
        "    plt.ylim(-300, 300)\n",
        "    plt.grid()\n",
        "    plt.tight_layout()\n",
        "    plt.show()"
      ],
      "execution_count": null,
      "outputs": []
    },
    {
      "cell_type": "code",
      "metadata": {
        "id": "fNaYXrps8W4j"
      },
      "source": [
        "#title Методы train и test\n",
        "# Тут ничего менять не нужно\n",
        "\n",
        "ACTION_SIZE = 2\n",
        "STATE_SIZE = 8\n",
        "ENV_NAME = \"LunarLanderContinuous-v2\"\n",
        "\n",
        "def test(ddpg, episodes=10):\n",
        "    rewards = []    \n",
        "    env = gym.make(ENV_NAME)\n",
        "    for _ in range(episodes):\n",
        "        sum_reward = 0\n",
        "        done = False\n",
        "        state = env.reset()\n",
        "        while not done:\n",
        "            state, reward, done, _ = env.step(ddpg.get_action(state))\n",
        "            sum_reward += reward\n",
        "        rewards.append(sum_reward)\n",
        "    return np.mean(rewards), np.std(rewards)\n",
        "\n",
        "def train(agent, timesteps=50000, batch_size=256, buffer_size=50000, \n",
        "          start_train=10000, test_every=1000, test_count=10):\n",
        "    env = gym.make(ENV_NAME)\n",
        "    env.seed(0)\n",
        "    random.seed(0)\n",
        "    done = False\n",
        "    state = env.reset()\n",
        "    buffer = ExpirienceReplay(buffer_size)\n",
        "    actor_loss_sum = 0\n",
        "    critic_loss_sum = 0\n",
        "    loss_ctn = 0\n",
        "    \n",
        "    log_ts = []\n",
        "    log_mean = []\n",
        "    log_std = []\n",
        "    \n",
        "    rng = tqdm(range(timesteps))\n",
        "    for t in rng:\n",
        "        if done:\n",
        "            done = False\n",
        "            state = env.reset()\n",
        "        action = np.clip(agent.get_action(state) + np.random.randn(ACTION_SIZE)*0.15, -1, 1)\n",
        "        next_state, reward, done, _ = env.step(action)\n",
        "        buffer.add((state, action, next_state, reward, done))\n",
        "        state = next_state\n",
        "        \n",
        "        if t > start_train:\n",
        "            batch = buffer.sample(batch_size)\n",
        "            critic_loss, actor_loss = agent.update(batch)\n",
        "            actor_loss_sum += actor_loss\n",
        "            critic_loss_sum += critic_loss\n",
        "            loss_ctn += 1\n",
        "            \n",
        "            if t % test_every == 0 or t == timesteps - 1:\n",
        "                log_ts.append(t)\n",
        "                mean, std = test(agent, test_count)\n",
        "                log_mean.append(mean)\n",
        "                log_std.append(std)\n",
        "                rng.set_postfix_str(f\"Mean reward: {mean:.2f}, Critic loss: {(critic_loss_sum / loss_ctn):.2f}, Actor loss: {(actor_loss_sum / loss_ctn):.2f}\")\n",
        "                actor_loss_sum = 0\n",
        "                critic_loss_sum = 0\n",
        "                loss_ctn = 0\n",
        "\n",
        "    return np.array(log_ts), np.array(log_mean), np.array(log_std)"
      ],
      "execution_count": null,
      "outputs": []
    },
    {
      "cell_type": "markdown",
      "metadata": {
        "id": "w0NLbeM08W4y"
      },
      "source": [
        "### Задание\n",
        "Вам нужно заполнить пробелы в коде ниже. Код взаимодействия со средой уже реализован за Вас."
      ]
    },
    {
      "cell_type": "code",
      "metadata": {
        "id": "8LiiF3W48W4y"
      },
      "source": [
        "class Actor(nn.Module):\n",
        "    def __init__(self, state_size: int, action_size: int, hidden_size: int, hidden_size_2: int = 400):\n",
        "        super().__init__()\n",
        "        self.fc1 = nn.Linear(state_size, hidden_size)\n",
        "        self.fc2 = nn.Linear(hidden_size, hidden_size_2)\n",
        "        self.fc3 = nn.Linear(hidden_size_2, action_size)\n",
        "        \n",
        "    def forward(self, state):\n",
        "        \"\"\"\n",
        "        Принимает на вход state, который является объектом класса torch.Tensor и имеет размерность (batch_size, state_size)\n",
        "        Возвращает объект класса torch.Tensor размерности (batch_size, action_size), который является предсказанным действием агента\n",
        "        \"\"\"\n",
        "        out = F.relu(self.fc1(state))\n",
        "        out = F.relu(self.fc2(out))\n",
        "        out = torch.tanh(self.fc3(out))\n",
        "        return out"
      ],
      "execution_count": null,
      "outputs": []
    },
    {
      "cell_type": "code",
      "metadata": {
        "id": "S00btYqK8W40"
      },
      "source": [
        "class Critic(nn.Module):\n",
        "    def __init__(self, state_size: int, action_size: int, hidden_size: int, hidden_size_2: int = 400):\n",
        "        super().__init__()\n",
        "        self.fc1 = nn.Linear(state_size, hidden_size)\n",
        "        self.fc2 = nn.Linear(hidden_size+action_size, hidden_size_2)\n",
        "        self.fc3 = nn.Linear(hidden_size_2, 1)\n",
        "        \n",
        "    def forward(self, state, action):\n",
        "        \"\"\"\n",
        "        Принимает на вход state, который является объектом класса torch.Tensor и имеет размерность (batch_size, state_size)\n",
        "        Принимает на вход action, который является объектом класса torch.Tensor и имеет размерность (batch_size, action_size)\n",
        "        Возвращает объект класса torch.Tensor размерности (batch_size, ), который является оценкой Q-function\n",
        "        \"\"\"\n",
        "        out_state = F.relu(self.fc1(state))\n",
        "        out = torch.cat((out_state, action), dim=1)\n",
        "        out = F.relu(self.fc2(out))\n",
        "        out = self.fc3(out)\n",
        "        return out "
      ],
      "execution_count": null,
      "outputs": []
    },
    {
      "cell_type": "code",
      "source": [
        "class DDPG:\n",
        "    def __init__(self, state_size, action_size, tau=0.001, gamma=0.99, hidden_size=256,\n",
        "                 hidden_size_2: int = 400, actor_lr: float = 1e-3, critic_lr: float = 1e-3):\n",
        "        self.gamma = gamma\n",
        "        self.tau = tau\n",
        "        self.actor = Actor(state_size, action_size, hidden_size, hidden_size_2)\n",
        "        self.critic = Critic(state_size, action_size, hidden_size, hidden_size_2)\n",
        "        self.target_actor = copy.deepcopy(self.actor)\n",
        "        self.target_critic = copy.deepcopy(self.critic)\n",
        "        \n",
        "        self.actor.to(device)\n",
        "        self.target_actor.to(device)\n",
        "        self.critic.to(device)\n",
        "        self.target_critic.to(device)\n",
        "        \n",
        "        self.actor_optim = optim.AdamW(self.actor.parameters(), lr=actor_lr)\n",
        "        self.critic_optim = optim.AdamW(self.critic.parameters(), lr=critic_lr)\n",
        "        \n",
        "    def get_action(self, state):\n",
        "        \"\"\"\n",
        "        Принимает на вход state, который является объектом класса numpy.array\n",
        "        Возвращает action, который является объектом класса numpy.array\n",
        "        \"\"\"\n",
        "        state_tensor = torch.from_numpy(state).to(device)\n",
        "        action = self.actor(state_tensor).detach().cpu().numpy()\n",
        "        return action\n",
        "        \n",
        "    \n",
        "    def compute_actor_loss(self, state):\n",
        "        \"\"\"\n",
        "        Принимает на вход state, который является объектом класса torch.Tensor и имеет размерность (batch_size, state_size)\n",
        "        Возвращает функцию потерь actor'а loss, которая явлеятся объектом класса torch.Tensor\n",
        "        \"\"\"\n",
        "        loss = -self.critic(state, self.actor(state)).mean()\n",
        "        return loss\n",
        "    \n",
        "    def compute_critic_loss(self, state, action, next_state, reward, done):\n",
        "        \"\"\"\n",
        "        Принимает на вход state, который является объектом класса torch.Tensor и имеет размерность (batch_size, state_size)\n",
        "        Принимает на вход action, который является объектом класса torch.Tensor и имеет размерность (batch_size, action_size)\n",
        "        Принимает на вход next_state, который является объектом класса torch.Tensor и имеет размерность (batch_size, state_size)\n",
        "        Принимает на вход reward, который является объектом класса torch.Tensor и имеет размерность (batch_size, )\n",
        "        Принимает на вход done, который является объектом класса torch.Tensor и имеет размерность (batch_size, ) и тип bool\n",
        "        Возвращает функцию потерь critic'а loss, которая явлеятся объектом класса torch.Tensor\n",
        "        \"\"\"\n",
        "        with torch.no_grad():\n",
        "            q_value = self.target_critic(next_state, self.target_actor(next_state))\n",
        "            y = self.gamma * (torch.ones(done.shape, device=device) - done.long()).unsqueeze(1) * q_value\n",
        "            y += reward.unsqueeze(1)\n",
        "        loss = F.mse_loss(self.critic(state, action), y)\n",
        "        return loss\n",
        "    \n",
        "    def soft_update(self, target_net, source_net):\n",
        "        \"\"\"\n",
        "        Применяет soft update с коэффициентом self.tau обновляя параметры target_net с помощью параметров source_net\n",
        "        \"\"\"\n",
        "        for target_param, source_param in zip(target_net.parameters(), source_net.parameters()):\n",
        "            target_param.data.copy_(target_param.data * (1.0 - self.tau) + source_param.data * self.tau)\n",
        "        \n",
        "    \n",
        "    def update(self, batch):\n",
        "        state, action, next_state, reward, done = batch\n",
        "        state = torch.tensor(state, dtype=torch.float32, device=device)\n",
        "        next_state = torch.tensor(next_state, dtype=torch.float32, device=device)\n",
        "        reward = torch.tensor(reward, dtype=torch.float32, device=device).view(-1)\n",
        "        done = torch.tensor(done, device=device)\n",
        "        action = torch.tensor(action, device=device, dtype=torch.float32)\n",
        "        \n",
        "        actor_loss = self.compute_actor_loss(state)\n",
        "        self.actor_optim.zero_grad()\n",
        "        actor_loss.backward()\n",
        "        self.actor_optim.step()\n",
        "\n",
        "        # Actor soft update\n",
        "        self.soft_update(self.target_actor, self.actor)\n",
        "\n",
        "        critic_loss = self.compute_critic_loss(state, action, next_state, reward, done)\n",
        "        self.critic_optim.zero_grad()\n",
        "        critic_loss.backward()\n",
        "        self.critic_optim.step()\n",
        "            \n",
        "        # Critic soft update\n",
        "        self.soft_update(self.target_critic, self.critic)\n",
        "\n",
        "        return critic_loss.item(), actor_loss.item()"
      ],
      "metadata": {
        "id": "m0pfTInptuRt"
      },
      "execution_count": null,
      "outputs": []
    },
    {
      "cell_type": "code",
      "metadata": {
        "id": "2OEU-7WD8W42"
      },
      "source": [
        "class TD3(DDPG):\n",
        "    def __init__(self, state_size, action_size, tau=0.001, gamma=0.99, hidden_size=256, \n",
        "                 hidden_size_2: int = 400, noise_clip: float = 0.5, policy_noise: float = 0.2, \n",
        "                 policy_delay: int = 2, actor_lr: float = 1e-3, critic_lr: float = 1e-3):\n",
        "        super().__init__(state_size, action_size, tau, gamma, hidden_size)\n",
        "        # TODO: Add TD3-specific modifications (e.g. second critic)\n",
        "        self.noise_clip = noise_clip\n",
        "        self.policy_noise = policy_noise\n",
        "        self.policy_delay = policy_delay\n",
        "        self.count_policy_delay = 0 # чтобы не вносить изменения в код трейна, счетчик будет полем класса\n",
        "        self.actor = Actor(state_size, action_size, hidden_size, hidden_size_2)\n",
        "        self.critic = Critic(state_size, action_size, hidden_size, hidden_size_2)\n",
        "        self.second_critic = Critic(state_size, action_size, hidden_size, hidden_size_2)\n",
        "        self.target_actor = copy.deepcopy(self.actor)\n",
        "        self.target_critic = copy.deepcopy(self.critic)\n",
        "        self.target_second_critic = copy.deepcopy(self.second_critic)\n",
        "        \n",
        "        self.actor.to(device)\n",
        "        self.target_actor.to(device)\n",
        "        self.critic.to(device)\n",
        "        self.target_critic.to(device)\n",
        "        self.second_critic.to(device)\n",
        "        self.target_second_critic.to(device)\n",
        "        \n",
        "        self.actor_optim = optim.Adam(self.actor.parameters(), lr=actor_lr)\n",
        "        self.critic_optim = optim.Adam(chain(self.critic.parameters(), self.second_critic.parameters()), \n",
        "                                             lr=critic_lr)\n",
        "    \n",
        "    def compute_critic_loss(self, state, action, next_state, reward, done):\n",
        "        \"\"\"\n",
        "        Принимает на вход state, который является объектом класса torch.Tensor и имеет размерность (batch_size, state_size)\n",
        "        Принимает на вход action, который является объектом класса torch.Tensor и имеет размерность (batch_size, action_size)\n",
        "        Принимает на вход next_state, который является объектом класса torch.Tensor и имеет размерность (batch_size, state_size)\n",
        "        Принимает на вход reward, который является объектом класса torch.Tensor и имеет размерность (batch_size, )\n",
        "        Принимает на вход done, который является объектом класса torch.Tensor и имеет размерность (batch_size, ) и тип bool\n",
        "        Возвращает функцию потерь critic'а loss, которая явлеятся объектом класса torch.Tensor\n",
        "        \"\"\"\n",
        "        # TODO: Add TD3-specific modifications\n",
        "        with torch.no_grad():\n",
        "            noise = (torch.randn_like(action) * self.policy_noise).clamp(-self.noise_clip, self.noise_clip)\n",
        "            next_action = (self.target_actor(next_state) + noise).clamp(-1, 1)\n",
        "            q1 = self.target_critic(next_state, next_action)\n",
        "            q2 = self.target_second_critic(next_state, next_action)\n",
        "            q_value = torch.min(q1, q2)\n",
        "            y = self.gamma * (torch.ones(done.shape, device=device) - done.long()).unsqueeze(1) * q_value\n",
        "            y += reward.unsqueeze(1)\n",
        "        loss = F.mse_loss(self.critic(state, action), y) + F.mse_loss(self.second_critic(state, action), y)\n",
        "        return loss\n",
        "\n",
        "    \n",
        "    def update(self, batch):\n",
        "        # Don't forget to update second critic here!\n",
        "        state, action, next_state, reward, done = batch\n",
        "        state = torch.tensor(state, dtype=torch.float32, device=device)\n",
        "        next_state = torch.tensor(next_state, dtype=torch.float32, device=device)\n",
        "        reward = torch.tensor(reward, dtype=torch.float32, device=device).view(-1)\n",
        "        done = torch.tensor(done, device=device)\n",
        "        action = torch.tensor(action, device=device, dtype=torch.float32)\n",
        "\n",
        "        critic_loss = self.compute_critic_loss(state, action, next_state, reward, done)\n",
        "        self.critic_optim.zero_grad()\n",
        "        critic_loss.backward()\n",
        "        self.critic_optim.step()\n",
        "\n",
        "        self.count_policy_delay += 1\n",
        "\n",
        "        if self.count_policy_delay % self.policy_delay == 0:\n",
        "            actor_loss = self.compute_actor_loss(state)\n",
        "            self.actor_optim.zero_grad()\n",
        "            actor_loss.backward()\n",
        "            self.actor_optim.step()\n",
        "\n",
        "            self.soft_update(self.target_actor, self.actor)\n",
        "\n",
        "            self.soft_update(self.target_critic, self.critic)\n",
        "            self.soft_update(self.target_second_critic, self.second_critic)\n",
        "        else:\n",
        "            actor_loss = torch.zeros(1)  # чтобы return корректно возвращал, что надо        \n",
        "\n",
        "        return critic_loss.item(), actor_loss.item()"
      ],
      "execution_count": null,
      "outputs": []
    },
    {
      "cell_type": "markdown",
      "metadata": {
        "id": "hY4Zf-c2pdtd"
      },
      "source": [
        "### Запуск обучения агента\n",
        "Не забудьте потьюнить гиперпараметры для лучшего результата!"
      ]
    },
    {
      "cell_type": "code",
      "source": [
        "xs, means, stds, labels = [], [], [], []"
      ],
      "metadata": {
        "id": "qsS_eniivAvX"
      },
      "execution_count": null,
      "outputs": []
    },
    {
      "cell_type": "code",
      "metadata": {
        "id": "E7VgD8zVYu3u",
        "colab": {
          "base_uri": "https://localhost:8080/",
          "height": 104,
          "referenced_widgets": [
            "eda354d539a84435af8ddc573c6463fd",
            "698ef63941a740bb89f28cd4236d4062",
            "0b8c30f1ec964f5cad99f566844c3e1a",
            "3a7eb8f24706442c936ffc2babace575",
            "73c015dda5de45d79480a7287e9ff820",
            "11ad116a08e34ece898623a6c8052051",
            "caf8e2770674477fb7e6e897a449cefb",
            "d079ff7574d74a75bb6c941f553310da",
            "ec11e5f0016a495fb763cf9882ec4020",
            "46767276676e4ae18fabda392605c877",
            "c8fd5748282946b28a90e2685b25a69a"
          ]
        },
        "outputId": "91939202-7c74-4610-ff86-e7d179b76751"
      },
      "source": [
        "ddpg = DDPG(STATE_SIZE, ACTION_SIZE, tau=0.001, gamma=0.99, hidden_size=256, hidden_size_2=356, \n",
        "            actor_lr=1e-3, critic_lr=1e-3)\n",
        "x, mean, std = train(ddpg, timesteps=400_000, test_every=5000,\n",
        "                     batch_size=256, start_train=20000, buffer_size=50000, test_count=5)\n",
        "xs.append(x)\n",
        "means.append(mean)\n",
        "stds.append(std)\n",
        "labels.append(f\"DDPG\")\n",
        "\n",
        "final_mean, final_std = test(ddpg, episodes=25)\n",
        "print(f\"Agent mean score is {final_mean} with std {final_std}\")"
      ],
      "execution_count": null,
      "outputs": [
        {
          "output_type": "display_data",
          "data": {
            "application/vnd.jupyter.widget-view+json": {
              "model_id": "eda354d539a84435af8ddc573c6463fd",
              "version_minor": 0,
              "version_major": 2
            },
            "text/plain": [
              "  0%|          | 0/400000 [00:00<?, ?it/s]"
            ]
          },
          "metadata": {}
        },
        {
          "output_type": "stream",
          "name": "stderr",
          "text": [
            "/usr/local/lib/python3.7/dist-packages/ipykernel_launcher.py:63: UserWarning: Creating a tensor from a list of numpy.ndarrays is extremely slow. Please consider converting the list to a single numpy.ndarray with numpy.array() before converting to a tensor. (Triggered internally at  ../torch/csrc/utils/tensor_new.cpp:201.)\n"
          ]
        },
        {
          "output_type": "stream",
          "name": "stdout",
          "text": [
            "Agent mean score is 289.4741205589016 with std 20.93138518878587\n"
          ]
        }
      ]
    },
    {
      "cell_type": "code",
      "source": [
        "td3 = TD3(STATE_SIZE, ACTION_SIZE, tau=0.005, gamma=0.99, hidden_size=256,\n",
        "          noise_clip=0.5, policy_noise=0.2, \n",
        "          policy_delay=2, actor_lr=3e-4, critic_lr=3e-4)\n",
        "x, mean, std = train(td3, timesteps=400_000, test_every=5000,\n",
        "                     batch_size=256, start_train=20000, buffer_size=50000, test_count=5)\n",
        "                     \n",
        "xs.append(x)\n",
        "means.append(mean)\n",
        "stds.append(std)\n",
        "labels.append(f\"TD3\")\n",
        "\n",
        "final_mean, final_std = test(td3, episodes=25)\n",
        "print(f\"Agent mean score is {final_mean} with std {final_std}\")"
      ],
      "metadata": {
        "id": "Dg-7X7Z2vBMn",
        "colab": {
          "base_uri": "https://localhost:8080/",
          "height": 67,
          "referenced_widgets": [
            "9fd8bafbda36495f94d0b65e7ecdb965",
            "456d2ae8f5054f118c6cb7b3bd3742ff",
            "4da8fb82fb344f5796818245d77c7fab",
            "461e28daf373441e9f43e799cd241b5d",
            "1865a9b0c0f441f2a0c44c167db575b7",
            "a1a777fb48114f3ea26974486d5a3fbb",
            "5ef0dcf8dacd4e85b9af8609b037d9c6",
            "e155980559b1481cb477fe4486366e96",
            "ffe953c6555941328e77d49c56a4fbda",
            "0652ac73629c4892912c8096a031302a",
            "ee9e99eca5ff4935be534216dbe428a4"
          ]
        },
        "outputId": "fc7e607e-8ec8-4dcb-de13-822238f37095"
      },
      "execution_count": null,
      "outputs": [
        {
          "output_type": "display_data",
          "data": {
            "application/vnd.jupyter.widget-view+json": {
              "model_id": "9fd8bafbda36495f94d0b65e7ecdb965",
              "version_minor": 0,
              "version_major": 2
            },
            "text/plain": [
              "  0%|          | 0/400000 [00:00<?, ?it/s]"
            ]
          },
          "metadata": {}
        },
        {
          "output_type": "stream",
          "name": "stdout",
          "text": [
            "Agent mean score is 284.0660787510597 with std 18.464298030286475\n"
          ]
        }
      ]
    },
    {
      "cell_type": "code",
      "metadata": {
        "id": "76YA5b3npjvc",
        "colab": {
          "base_uri": "https://localhost:8080/",
          "height": 585
        },
        "outputId": "4c4cffb2-c3e3-434b-b0a2-4f87e6e16c61"
      },
      "source": [
        "build_plot(xs, means, stds, labels)"
      ],
      "execution_count": null,
      "outputs": [
        {
          "output_type": "display_data",
          "data": {
            "image/png": "[encoded data removed]",
            "text/plain": [
              "<Figure size 864x576 with 1 Axes>"
            ]
          },
          "metadata": {
            "needs_background": "light"
          }
        }
      ]
    },
    {
      "cell_type": "markdown",
      "source": [
        "Как видно из графика, оба алгоритма почти сошлись к оптимальному решению (300+ очков), и если продолжить обучение, то они скорее всего сойдутся. TD3 является более устойчивым алгоритмом, отклонение реворда у него меньше, особенно это заметно после 300_000 эпизода, в то время как DDPG ведет себя нестабильно. Этого и следовало ожидать, потому что у TD3 два критика, также обновление таргет-сетей не на каждом апдейте, что, интуитивно, должно вести к более стабильной сходимости. \\\n",
        "Было испробовано несколько вариантов гиперпараметров (в освном происходил тюнинг lr, hidden_state, tau), у DDPG был заменен Adam на AdamW, но дополнительный weight_decay не дал существенного улучшения результата. \\\n",
        "Также был добавлен параметр hidden_state_2 для сетей актора и критика, но добавление еще одного dense слоя также не дало существенного улучшения. \\\n",
        "\n"
      ],
      "metadata": {
        "id": "FpJruuLbKC64"
      }
    }
  ]
}